{
  "nbformat": 4,
  "nbformat_minor": 0,
  "metadata": {
    "colab": {
      "name": "5.1_binary_classfication_wine.ipynb",
      "provenance": [],
      "collapsed_sections": [],
      "authorship_tag": "ABX9TyP+jvY819DmadESszLUCGSq",
      "include_colab_link": true
    },
    "kernelspec": {
      "name": "python3",
      "display_name": "Python 3"
    },
    "accelerator": "GPU"
  },
  "cells": [
    {
      "cell_type": "markdown",
      "metadata": {
        "id": "view-in-github",
        "colab_type": "text"
      },
      "source": [
        "<a href=\"https://colab.research.google.com/github/juyounLee/Tensorflow2.0/blob/main/5_1_binary_classfication_wine.ipynb\" target=\"_parent\"><img src=\"https://colab.research.google.com/assets/colab-badge.svg\" alt=\"Open In Colab\"/></a>"
      ]
    },
    {
      "cell_type": "code",
      "metadata": {
        "id": "7YjkwWG2mjR7",
        "outputId": "132caef6-32a1-44c8-e322-fa6aa0db1777",
        "colab": {
          "base_uri": "https://localhost:8080/",
          "height": 295
        }
      },
      "source": [
        "import pandas as pd\n",
        "\n",
        "# load the data\n",
        "\n",
        "red = pd.read_csv('http://archive.ics.uci.edu/ml/machine-learning-databases/wine-quality/winequality-red.csv', sep=';')\n",
        "white = pd.read_csv('http://archive.ics.uci.edu/ml/machine-learning-databases/wine-quality/winequality-white.csv', sep=';')\n",
        "print(red.head())\n",
        "print(white.head())"
      ],
      "execution_count": 1,
      "outputs": [
        {
          "output_type": "stream",
          "text": [
            "   fixed acidity  volatile acidity  citric acid  ...  sulphates  alcohol  quality\n",
            "0            7.4              0.70         0.00  ...       0.56      9.4        5\n",
            "1            7.8              0.88         0.00  ...       0.68      9.8        5\n",
            "2            7.8              0.76         0.04  ...       0.65      9.8        5\n",
            "3           11.2              0.28         0.56  ...       0.58      9.8        6\n",
            "4            7.4              0.70         0.00  ...       0.56      9.4        5\n",
            "\n",
            "[5 rows x 12 columns]\n",
            "   fixed acidity  volatile acidity  citric acid  ...  sulphates  alcohol  quality\n",
            "0            7.0              0.27         0.36  ...       0.45      8.8        6\n",
            "1            6.3              0.30         0.34  ...       0.49      9.5        6\n",
            "2            8.1              0.28         0.40  ...       0.44     10.1        6\n",
            "3            7.2              0.23         0.32  ...       0.40      9.9        6\n",
            "4            7.2              0.23         0.32  ...       0.40      9.9        6\n",
            "\n",
            "[5 rows x 12 columns]\n"
          ],
          "name": "stdout"
        }
      ]
    },
    {
      "cell_type": "code",
      "metadata": {
        "id": "aCUcxMdtnsjl",
        "outputId": "75b091e5-1f94-4644-d75a-e39c22102531",
        "colab": {
          "base_uri": "https://localhost:8080/",
          "height": 381
        }
      },
      "source": [
        "# bind two wine datasets\n",
        "\n",
        "red['type'] = 0     # red or wine인지 추가\n",
        "white['type'] = 1\n",
        "print(red.head(2))\n",
        "print(white.head(2))\n",
        "\n",
        "wine = pd.concat([red, white])\n",
        "print(wine.describe())"
      ],
      "execution_count": 2,
      "outputs": [
        {
          "output_type": "stream",
          "text": [
            "   fixed acidity  volatile acidity  citric acid  ...  alcohol  quality  type\n",
            "0            7.4              0.70          0.0  ...      9.4        5     0\n",
            "1            7.8              0.88          0.0  ...      9.8        5     0\n",
            "\n",
            "[2 rows x 13 columns]\n",
            "   fixed acidity  volatile acidity  citric acid  ...  alcohol  quality  type\n",
            "0            7.0              0.27         0.36  ...      8.8        6     1\n",
            "1            6.3              0.30         0.34  ...      9.5        6     1\n",
            "\n",
            "[2 rows x 13 columns]\n",
            "       fixed acidity  volatile acidity  ...      quality         type\n",
            "count    6497.000000       6497.000000  ...  6497.000000  6497.000000\n",
            "mean        7.215307          0.339666  ...     5.818378     0.753886\n",
            "std         1.296434          0.164636  ...     0.873255     0.430779\n",
            "min         3.800000          0.080000  ...     3.000000     0.000000\n",
            "25%         6.400000          0.230000  ...     5.000000     1.000000\n",
            "50%         7.000000          0.290000  ...     6.000000     1.000000\n",
            "75%         7.700000          0.400000  ...     6.000000     1.000000\n",
            "max        15.900000          1.580000  ...     9.000000     1.000000\n",
            "\n",
            "[8 rows x 13 columns]\n"
          ],
          "name": "stdout"
        }
      ]
    },
    {
      "cell_type": "code",
      "metadata": {
        "id": "5pM1JOM1oOd_",
        "outputId": "24ea1776-216b-475b-f50d-608b5bdf235d",
        "colab": {
          "base_uri": "https://localhost:8080/",
          "height": 69
        }
      },
      "source": [
        "print(wine['type'].value_counts())"
      ],
      "execution_count": 3,
      "outputs": [
        {
          "output_type": "stream",
          "text": [
            "1    4898\n",
            "0    1599\n",
            "Name: type, dtype: int64\n"
          ],
          "name": "stdout"
        }
      ]
    },
    {
      "cell_type": "code",
      "metadata": {
        "id": "qrxAuEPpotA3",
        "outputId": "854d1044-3555-4d6e-af13-6284968f4996",
        "colab": {
          "base_uri": "https://localhost:8080/",
          "height": 381
        }
      },
      "source": [
        "print(wine.info())"
      ],
      "execution_count": 4,
      "outputs": [
        {
          "output_type": "stream",
          "text": [
            "<class 'pandas.core.frame.DataFrame'>\n",
            "Int64Index: 6497 entries, 0 to 4897\n",
            "Data columns (total 13 columns):\n",
            " #   Column                Non-Null Count  Dtype  \n",
            "---  ------                --------------  -----  \n",
            " 0   fixed acidity         6497 non-null   float64\n",
            " 1   volatile acidity      6497 non-null   float64\n",
            " 2   citric acid           6497 non-null   float64\n",
            " 3   residual sugar        6497 non-null   float64\n",
            " 4   chlorides             6497 non-null   float64\n",
            " 5   free sulfur dioxide   6497 non-null   float64\n",
            " 6   total sulfur dioxide  6497 non-null   float64\n",
            " 7   density               6497 non-null   float64\n",
            " 8   pH                    6497 non-null   float64\n",
            " 9   sulphates             6497 non-null   float64\n",
            " 10  alcohol               6497 non-null   float64\n",
            " 11  quality               6497 non-null   int64  \n",
            " 12  type                  6497 non-null   int64  \n",
            "dtypes: float64(11), int64(2)\n",
            "memory usage: 710.6 KB\n",
            "None\n"
          ],
          "name": "stdout"
        }
      ]
    },
    {
      "cell_type": "code",
      "metadata": {
        "id": "7ftV7wSLw23O",
        "outputId": "97a4ec88-24a7-49d4-d6e2-2b34729822df",
        "colab": {
          "base_uri": "https://localhost:8080/",
          "height": 347
        }
      },
      "source": [
        "# normalize the data\n",
        "\n",
        "wine_norm = (wine - wine.min()) / (wine.max() - wine.min())\n",
        "print(wine_norm.head())\n",
        "print(wine_norm.describe())"
      ],
      "execution_count": 5,
      "outputs": [
        {
          "output_type": "stream",
          "text": [
            "   fixed acidity  volatile acidity  citric acid  ...   alcohol   quality  type\n",
            "0       0.297521          0.413333     0.000000  ...  0.202899  0.333333   0.0\n",
            "1       0.330579          0.533333     0.000000  ...  0.260870  0.333333   0.0\n",
            "2       0.330579          0.453333     0.024096  ...  0.260870  0.333333   0.0\n",
            "3       0.611570          0.133333     0.337349  ...  0.260870  0.500000   0.0\n",
            "4       0.297521          0.413333     0.000000  ...  0.202899  0.333333   0.0\n",
            "\n",
            "[5 rows x 13 columns]\n",
            "       fixed acidity  volatile acidity  ...      quality         type\n",
            "count    6497.000000       6497.000000  ...  6497.000000  6497.000000\n",
            "mean        0.282257          0.173111  ...     0.469730     0.753886\n",
            "std         0.107143          0.109758  ...     0.145543     0.430779\n",
            "min         0.000000          0.000000  ...     0.000000     0.000000\n",
            "25%         0.214876          0.100000  ...     0.333333     1.000000\n",
            "50%         0.264463          0.140000  ...     0.500000     1.000000\n",
            "75%         0.322314          0.213333  ...     0.500000     1.000000\n",
            "max         1.000000          1.000000  ...     1.000000     1.000000\n",
            "\n",
            "[8 rows x 13 columns]\n"
          ],
          "name": "stdout"
        }
      ]
    },
    {
      "cell_type": "code",
      "metadata": {
        "id": "eMNmq7s0xgkn",
        "outputId": "a1be55cb-718b-4441-81b1-70b90db76375",
        "colab": {
          "base_uri": "https://localhost:8080/",
          "height": 156
        }
      },
      "source": [
        "# shuffle the red and white data (비율을 동등하게 맞추기 위해)\n",
        "\n",
        "wine_shuffle = wine_norm.sample(frac=1) # frac=1; 100% data 사용\n",
        "print(wine_shuffle.head())\n",
        "wine_np = wine_shuffle.to_numpy()"
      ],
      "execution_count": 6,
      "outputs": [
        {
          "output_type": "stream",
          "text": [
            "      fixed acidity  volatile acidity  citric acid  ...   alcohol   quality  type\n",
            "4392       0.198347          0.113333     0.265060  ...  0.173913  0.333333   1.0\n",
            "1260       0.396694          0.370000     0.409639  ...  0.188406  0.333333   0.0\n",
            "3757       0.223140          0.120000     0.204819  ...  0.391304  0.333333   1.0\n",
            "656        0.429752          0.126667     0.210843  ...  0.478261  0.500000   1.0\n",
            "4410       0.157025          0.106667     0.283133  ...  0.251208  0.333333   1.0\n",
            "\n",
            "[5 rows x 13 columns]\n"
          ],
          "name": "stdout"
        }
      ]
    },
    {
      "cell_type": "code",
      "metadata": {
        "id": "ohQiQxe-2b6k",
        "outputId": "7893917c-3bb5-412f-990b-c9591abaf9be",
        "colab": {
          "base_uri": "https://localhost:8080/",
          "height": 121
        }
      },
      "source": [
        "# split train and test data\n",
        "\n",
        "import tensorflow as tf\n",
        "\n",
        "train_idx = int(len(wine_np)*0.8)\n",
        "train_X, train_y = wine_np[:train_idx, :-1], wine_np[:train_idx, -1]\n",
        "test_X, test_y = wine_np[train_idx:, :-1], wine_np[train_idx:, -1]\n",
        "\n",
        "print(train_X[0])\n",
        "print(train_y[0])\n",
        "print(test_X[0])\n",
        "print(test_y[0])"
      ],
      "execution_count": 7,
      "outputs": [
        {
          "output_type": "stream",
          "text": [
            "[0.19834711 0.11333333 0.26506024 0.23312883 0.07973422 0.13194444\n",
            " 0.37096774 0.21071911 0.3255814  0.16292135 0.17391304 0.33333333]\n",
            "1.0\n",
            "[0.58677686 0.16       0.31325301 0.01840491 0.20431894 0.05555556\n",
            " 0.0875576  0.19722383 0.43410853 0.30898876 0.50724638 0.5       ]\n",
            "0.0\n"
          ],
          "name": "stdout"
        }
      ]
    },
    {
      "cell_type": "code",
      "metadata": {
        "id": "yvCdeRhlPrSQ"
      },
      "source": [
        "# one-Hot Encoding\n",
        "\n",
        "train_y = tf.keras.utils.to_categorical(train_y, num_classes=2)\n",
        "test_y = tf.keras.utils.to_categorical(test_y, num_classes=2)"
      ],
      "execution_count": 8,
      "outputs": []
    },
    {
      "cell_type": "code",
      "metadata": {
        "id": "AocRXrUWQwF9",
        "outputId": "e7256813-97ec-47e6-d47f-bf0b43f2e19e",
        "colab": {
          "base_uri": "https://localhost:8080/",
          "height": 295
        }
      },
      "source": [
        "# build the model\n",
        "\n",
        "model = tf.keras.Sequential([\n",
        "                             tf.keras.layers.Dense(units=48, activation='relu', input_shape=(12,)),\n",
        "                             tf.keras.layers.Dense(units=24, activation='relu'),\n",
        "                             tf.keras.layers.Dense(units=12, activation='relu'),\n",
        "                             tf.keras.layers.Dense(units=2, activation='softmax')\n",
        "])\n",
        "\n",
        "model.compile(optimizer = tf.keras.optimizers.Adam(lr=0.07),\n",
        "              loss = 'categorical_crossentropy', metrics=['accuracy'])\n",
        "\n",
        "model.summary()"
      ],
      "execution_count": 9,
      "outputs": [
        {
          "output_type": "stream",
          "text": [
            "Model: \"sequential\"\n",
            "_________________________________________________________________\n",
            "Layer (type)                 Output Shape              Param #   \n",
            "=================================================================\n",
            "dense (Dense)                (None, 48)                624       \n",
            "_________________________________________________________________\n",
            "dense_1 (Dense)              (None, 24)                1176      \n",
            "_________________________________________________________________\n",
            "dense_2 (Dense)              (None, 12)                300       \n",
            "_________________________________________________________________\n",
            "dense_3 (Dense)              (None, 2)                 26        \n",
            "=================================================================\n",
            "Total params: 2,126\n",
            "Trainable params: 2,126\n",
            "Non-trainable params: 0\n",
            "_________________________________________________________________\n"
          ],
          "name": "stdout"
        }
      ]
    },
    {
      "cell_type": "code",
      "metadata": {
        "id": "7U5zlPoHUIOy",
        "outputId": "e1dd94e5-fc42-4c6f-a61a-ffd318f99501",
        "colab": {
          "base_uri": "https://localhost:8080/",
          "height": 884
        }
      },
      "source": [
        "history = model.fit(train_X, train_y, epochs=25, batch_size=32, validation_split=0.25)"
      ],
      "execution_count": 10,
      "outputs": [
        {
          "output_type": "stream",
          "text": [
            "Epoch 1/25\n",
            "122/122 [==============================] - 1s 6ms/step - loss: 0.1249 - accuracy: 0.9507 - val_loss: 0.0375 - val_accuracy: 0.9892\n",
            "Epoch 2/25\n",
            "122/122 [==============================] - 0s 4ms/step - loss: 0.0624 - accuracy: 0.9854 - val_loss: 0.0752 - val_accuracy: 0.9746\n",
            "Epoch 3/25\n",
            "122/122 [==============================] - 0s 4ms/step - loss: 0.0536 - accuracy: 0.9872 - val_loss: 0.0609 - val_accuracy: 0.9800\n",
            "Epoch 4/25\n",
            "122/122 [==============================] - 0s 4ms/step - loss: 0.0480 - accuracy: 0.9869 - val_loss: 0.0318 - val_accuracy: 0.9915\n",
            "Epoch 5/25\n",
            "122/122 [==============================] - 0s 4ms/step - loss: 0.0643 - accuracy: 0.9836 - val_loss: 0.0748 - val_accuracy: 0.9692\n",
            "Epoch 6/25\n",
            "122/122 [==============================] - 0s 4ms/step - loss: 0.0431 - accuracy: 0.9885 - val_loss: 0.0258 - val_accuracy: 0.9915\n",
            "Epoch 7/25\n",
            "122/122 [==============================] - 0s 4ms/step - loss: 0.0424 - accuracy: 0.9879 - val_loss: 0.0315 - val_accuracy: 0.9877\n",
            "Epoch 8/25\n",
            "122/122 [==============================] - 0s 4ms/step - loss: 0.0370 - accuracy: 0.9902 - val_loss: 0.0708 - val_accuracy: 0.9785\n",
            "Epoch 9/25\n",
            "122/122 [==============================] - 0s 3ms/step - loss: 0.0393 - accuracy: 0.9908 - val_loss: 0.0325 - val_accuracy: 0.9900\n",
            "Epoch 10/25\n",
            "122/122 [==============================] - 0s 4ms/step - loss: 0.0460 - accuracy: 0.9851 - val_loss: 0.0406 - val_accuracy: 0.9908\n",
            "Epoch 11/25\n",
            "122/122 [==============================] - 0s 4ms/step - loss: 0.0411 - accuracy: 0.9915 - val_loss: 0.0249 - val_accuracy: 0.9900\n",
            "Epoch 12/25\n",
            "122/122 [==============================] - 0s 4ms/step - loss: 0.0467 - accuracy: 0.9877 - val_loss: 0.0330 - val_accuracy: 0.9885\n",
            "Epoch 13/25\n",
            "122/122 [==============================] - 0s 4ms/step - loss: 0.0433 - accuracy: 0.9869 - val_loss: 0.0386 - val_accuracy: 0.9915\n",
            "Epoch 14/25\n",
            "122/122 [==============================] - 0s 4ms/step - loss: 0.0324 - accuracy: 0.9918 - val_loss: 0.0344 - val_accuracy: 0.9900\n",
            "Epoch 15/25\n",
            "122/122 [==============================] - 0s 4ms/step - loss: 0.0377 - accuracy: 0.9920 - val_loss: 0.0400 - val_accuracy: 0.9923\n",
            "Epoch 16/25\n",
            "122/122 [==============================] - 0s 4ms/step - loss: 0.0396 - accuracy: 0.9900 - val_loss: 0.0291 - val_accuracy: 0.9892\n",
            "Epoch 17/25\n",
            "122/122 [==============================] - 0s 4ms/step - loss: 0.0388 - accuracy: 0.9913 - val_loss: 0.0327 - val_accuracy: 0.9877\n",
            "Epoch 18/25\n",
            "122/122 [==============================] - 0s 4ms/step - loss: 0.0325 - accuracy: 0.9931 - val_loss: 0.0445 - val_accuracy: 0.9877\n",
            "Epoch 19/25\n",
            "122/122 [==============================] - 0s 4ms/step - loss: 0.0336 - accuracy: 0.9910 - val_loss: 0.0456 - val_accuracy: 0.9846\n",
            "Epoch 20/25\n",
            "122/122 [==============================] - 0s 4ms/step - loss: 0.0341 - accuracy: 0.9915 - val_loss: 0.0228 - val_accuracy: 0.9900\n",
            "Epoch 21/25\n",
            "122/122 [==============================] - 0s 4ms/step - loss: 0.0424 - accuracy: 0.9882 - val_loss: 0.0590 - val_accuracy: 0.9862\n",
            "Epoch 22/25\n",
            "122/122 [==============================] - 0s 3ms/step - loss: 0.0330 - accuracy: 0.9926 - val_loss: 0.0220 - val_accuracy: 0.9900\n",
            "Epoch 23/25\n",
            "122/122 [==============================] - 0s 4ms/step - loss: 0.0343 - accuracy: 0.9920 - val_loss: 0.0290 - val_accuracy: 0.9892\n",
            "Epoch 24/25\n",
            "122/122 [==============================] - 0s 4ms/step - loss: 0.0378 - accuracy: 0.9926 - val_loss: 0.0451 - val_accuracy: 0.9877\n",
            "Epoch 25/25\n",
            "122/122 [==============================] - 0s 4ms/step - loss: 0.0335 - accuracy: 0.9920 - val_loss: 0.0310 - val_accuracy: 0.9915\n"
          ],
          "name": "stdout"
        }
      ]
    },
    {
      "cell_type": "code",
      "metadata": {
        "id": "1dO7RTWq574i",
        "outputId": "40fb3f9c-7ef2-42ba-f5d7-9ec5b0ff8f6b",
        "colab": {
          "base_uri": "https://localhost:8080/",
          "height": 297
        }
      },
      "source": [
        "import matplotlib.pyplot as plt\n",
        "\n",
        "plt.figure(figsize=(12,4))\n",
        "plt.subplot(1, 2, 1)\n",
        "plt.plot(history.history['loss'], 'b-', label='loss')\n",
        "plt.plot(history.history['val_loss'], 'r--', label='val_loss')\n",
        "plt.xlabel('Epoch')\n",
        "plt.legend()\n",
        "\n",
        "plt.subplot(1, 2, 2)\n",
        "plt.plot(history.history['accuracy'], 'g--', label='accuracy')\n",
        "plt.plot(history.history['val_accuracy'], 'k--', label='val_accuracy')\n",
        "plt.xlabel('Epoch')\n",
        "plt.legend()"
      ],
      "execution_count": 11,
      "outputs": [
        {
          "output_type": "execute_result",
          "data": {
            "text/plain": [
              "<matplotlib.legend.Legend at 0x7f94fa00b668>"
            ]
          },
          "metadata": {
            "tags": []
          },
          "execution_count": 11
        },
        {
          "output_type": "display_data",
          "data": {
            "image/png": "[encoded data removed]",
            "text/plain": [
              "<Figure size 864x288 with 2 Axes>"
            ]
          },
          "metadata": {
            "tags": [],
            "needs_background": "light"
          }
        }
      ]
    },
    {
      "cell_type": "code",
      "metadata": {
        "id": "Fp0FnThpMtcw",
        "outputId": "bc860dcf-0544-465c-807b-72fc0d52d1b5",
        "colab": {
          "base_uri": "https://localhost:8080/",
          "height": 52
        }
      },
      "source": [
        "model.evaluate(test_X, test_y)"
      ],
      "execution_count": 12,
      "outputs": [
        {
          "output_type": "stream",
          "text": [
            "41/41 [==============================] - 0s 2ms/step - loss: 0.0401 - accuracy: 0.9923\n"
          ],
          "name": "stdout"
        },
        {
          "output_type": "execute_result",
          "data": {
            "text/plain": [
              "[0.040064651519060135, 0.9923076629638672]"
            ]
          },
          "metadata": {
            "tags": []
          },
          "execution_count": 12
        }
      ]
    },
    {
      "cell_type": "code",
      "metadata": {
        "id": "QX41YlUWNBwx"
      },
      "source": [
        ""
      ],
      "execution_count": 12,
      "outputs": []
    }
  ]
}