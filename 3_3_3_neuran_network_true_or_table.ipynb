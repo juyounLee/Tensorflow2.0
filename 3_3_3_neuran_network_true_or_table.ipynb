{
  "nbformat": 4,
  "nbformat_minor": 0,
  "metadata": {
    "colab": {
      "name": "3.3.3_neuran_network_true_or_table.ipynb",
      "provenance": [],
      "authorship_tag": "ABX9TyM057kzq3Z5+DNSu5zQl35G",
      "include_colab_link": true
    },
    "kernelspec": {
      "name": "python3",
      "display_name": "Python 3"
    }
  },
  "cells": [
    {
      "cell_type": "markdown",
      "metadata": {
        "id": "view-in-github",
        "colab_type": "text"
      },
      "source": [
        "<a href=\"https://colab.research.google.com/github/juyounLee/Tensorflow2.0/blob/main/3_3_3_neuran_network_true_or_table.ipynb\" target=\"_parent\"><img src=\"https://colab.research.google.com/assets/colab-badge.svg\" alt=\"Open In Colab\"/></a>"
      ]
    },
    {
      "cell_type": "code",
      "metadata": {
        "id": "d83NVFZujBlD"
      },
      "source": [
        "import tensorflow as tf\n",
        "import numpy as np\n",
        "import math"
      ],
      "execution_count": 1,
      "outputs": []
    },
    {
      "cell_type": "code",
      "metadata": {
        "id": "OX6L24NGjNZL"
      },
      "source": [
        "def sigmoid(x):\n",
        "  return 1 / (1 + math.exp(-x))"
      ],
      "execution_count": 2,
      "outputs": []
    },
    {
      "cell_type": "code",
      "metadata": {
        "id": "F7b_sK6ujTyz"
      },
      "source": [
        "x = np.array([[1,1], [1,0], [0,1], [0,0]])\n",
        "y = np.array([[1], [1], [1], [0]])"
      ],
      "execution_count": 3,
      "outputs": []
    },
    {
      "cell_type": "code",
      "metadata": {
        "id": "27Opayp6jeiD",
        "outputId": "8484f92e-cde2-4ea9-cb7e-0a8633efdd04",
        "colab": {
          "base_uri": "https://localhost:8080/",
          "height": 191
        }
      },
      "source": [
        "w = tf.random.normal((2,), 0, 1)\n",
        "b = tf.random.normal((1,), 0, 1)\n",
        "\n",
        "for i in range(2000):\n",
        "  sum_error = 0\n",
        "  for j in range(4):\n",
        "    output = sigmoid(np.sum(x[j]*w) + b)\n",
        "    error = y[j][0] - output\n",
        "    w = w + x[j]*0.1*error\n",
        "    b = b + 1*0.1*error\n",
        "    sum_error += error\n",
        "\n",
        "  if i % 200 == 199:\n",
        "    print(i, sum_error, w, b)\n"
      ],
      "execution_count": 4,
      "outputs": [
        {
          "output_type": "stream",
          "text": [
            "199 -0.0523669255457071 tf.Tensor([3.4099822 3.7021646], shape=(2,), dtype=float32) tf.Tensor([-1.217882], shape=(1,), dtype=float32)\n",
            "399 -0.026393384201086195 tf.Tensor([4.85301   4.9338093], shape=(2,), dtype=float32) tf.Tensor([-1.9451251], shape=(1,), dtype=float32)\n",
            "599 -0.017614695983806578 tf.Tensor([5.700054  5.7345767], shape=(2,), dtype=float32) tf.Tensor([-2.3731923], shape=(1,), dtype=float32)\n",
            "799 -0.013178459066338272 tf.Tensor([6.3003373 6.3184886], shape=(2,), dtype=float32) tf.Tensor([-2.6767027], shape=(1,), dtype=float32)\n",
            "999 -0.010508757606607973 tf.Tensor([6.76499  6.775728], shape=(2,), dtype=float32) tf.Tensor([-2.911464], shape=(1,), dtype=float32)\n",
            "1199 -0.008729307194195964 tf.Tensor([7.143801 7.150632], shape=(2,), dtype=float32) tf.Tensor([-3.102674], shape=(1,), dtype=float32)\n",
            "1399 -0.007460650503417474 tf.Tensor([7.463404 7.46797 ], shape=(2,), dtype=float32) tf.Tensor([-3.2638514], shape=(1,), dtype=float32)\n",
            "1599 -0.006510790301333731 tf.Tensor([7.739719 7.742873], shape=(2,), dtype=float32) tf.Tensor([-3.4030964], shape=(1,), dtype=float32)\n",
            "1799 -0.005774387913721778 tf.Tensor([7.983027 7.985249], shape=(2,), dtype=float32) tf.Tensor([-3.5256116], shape=(1,), dtype=float32)\n",
            "1999 -0.005185112731798575 tf.Tensor([8.2002735 8.201855 ], shape=(2,), dtype=float32) tf.Tensor([-3.6349752], shape=(1,), dtype=float32)\n"
          ],
          "name": "stdout"
        }
      ]
    },
    {
      "cell_type": "code",
      "metadata": {
        "id": "lSnKuoTupKx3",
        "outputId": "59915639-37c4-4932-a8ce-7f89707a0b7e",
        "colab": {
          "base_uri": "https://localhost:8080/",
          "height": 35
        }
      },
      "source": [
        "print('w: {} b: {}'.format(w, b))"
      ],
      "execution_count": 5,
      "outputs": [
        {
          "output_type": "stream",
          "text": [
            "w: [8.2002735 8.201855 ] b: [-3.6349752]\n"
          ],
          "name": "stdout"
        }
      ]
    },
    {
      "cell_type": "code",
      "metadata": {
        "id": "gEB5KxOsnOwS",
        "outputId": "d8377938-5ef3-46ec-bcfd-1696d750bcd0",
        "colab": {
          "base_uri": "https://localhost:8080/",
          "height": 87
        }
      },
      "source": [
        "for i in range(4):\n",
        "  print('X: {} Y: {} Output: {:.3f}'.format(x[i], y[i], sigmoid(np.sum(x[i]*w) + b)))\n"
      ],
      "execution_count": 6,
      "outputs": [
        {
          "output_type": "stream",
          "text": [
            "X: [1 1] Y: [1] Output: 1.000\n",
            "X: [1 0] Y: [1] Output: 0.990\n",
            "X: [0 1] Y: [1] Output: 0.990\n",
            "X: [0 0] Y: [0] Output: 0.026\n"
          ],
          "name": "stdout"
        }
      ]
    },
    {
      "cell_type": "code",
      "metadata": {
        "id": "1zxkJxgMoKaA"
      },
      "source": [
        ""
      ],
      "execution_count": 6,
      "outputs": []
    }
  ]
}