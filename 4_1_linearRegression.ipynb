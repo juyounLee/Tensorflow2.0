{
  "nbformat": 4,
  "nbformat_minor": 0,
  "metadata": {
    "colab": {
      "name": "4.1_linearRegression.ipynb",
      "provenance": [],
      "authorship_tag": "ABX9TyNthK/acyYl14j4kjOJOC5M",
      "include_colab_link": true
    },
    "kernelspec": {
      "name": "python3",
      "display_name": "Python 3"
    }
  },
  "cells": [
    {
      "cell_type": "markdown",
      "metadata": {
        "id": "view-in-github",
        "colab_type": "text"
      },
      "source": [
        "<a href=\"https://colab.research.google.com/github/juyounLee/Tensorflow2.0/blob/main/4_1_linearRegression.ipynb\" target=\"_parent\"><img src=\"https://colab.research.google.com/assets/colab-badge.svg\" alt=\"Open In Colab\"/></a>"
      ]
    },
    {
      "cell_type": "code",
      "metadata": {
        "id": "OY1QkfTZf9NF"
      },
      "source": [
        "import matplotlib.pyplot as plt\n",
        "import tensorflow as tf"
      ],
      "execution_count": 1,
      "outputs": []
    },
    {
      "cell_type": "code",
      "metadata": {
        "id": "-8r5gMdDrT9g"
      },
      "source": [
        "population_inc = [0.3, -0.78, 1.26, 0.03, 1.11, 15.17, 0.24, -0.24, -0.47, -0.77, -0.37, -0.85, -0.41, -0.27, 0.02, -0.76, 2.66]\n",
        "population_old = [12.27, 14.44, 11.87, 18.75, 17.52, 9.29, 16.37, 19.78, 19.51, 12.65, 14.74, 10.72, 21.94, 12.83, 15.51, 17.14, 14.42]"
      ],
      "execution_count": 2,
      "outputs": []
    },
    {
      "cell_type": "code",
      "metadata": {
        "id": "0V9cvyveuGzQ",
        "outputId": "b20bf8b7-6a0f-4452-886e-33fa22751062",
        "colab": {
          "base_uri": "https://localhost:8080/",
          "height": 283
        }
      },
      "source": [
        "# show the graph\n",
        "\n",
        "plt.plot(population_inc, population_inc, 'bo')"
      ],
      "execution_count": 3,
      "outputs": [
        {
          "output_type": "execute_result",
          "data": {
            "text/plain": [
              "[<matplotlib.lines.Line2D at 0x7ff964ffdf60>]"
            ]
          },
          "metadata": {
            "tags": []
          },
          "execution_count": 3
        },
        {
          "output_type": "display_data",
          "data": {
            "image/png": "[encoded data removed]",
            "text/plain": [
              "<Figure size 432x288 with 1 Axes>"
            ]
          },
          "metadata": {
            "tags": [],
            "needs_background": "light"
          }
        }
      ]
    },
    {
      "cell_type": "code",
      "metadata": {
        "id": "Dy_YkyoXuXDF"
      },
      "source": [
        "X = population_inc[0:5] + population_inc[6:]\n",
        "Y = population_old[0:5] + population_old[6:]"
      ],
      "execution_count": 4,
      "outputs": []
    },
    {
      "cell_type": "code",
      "metadata": {
        "id": "fNQZD7SIu65_",
        "outputId": "c1038679-15d3-4317-d420-3be8117c782f",
        "colab": {
          "base_uri": "https://localhost:8080/",
          "height": 297
        }
      },
      "source": [
        "plt.plot(X, Y, 'bo')\n",
        "plt.xlabel('Population Growth Rate')\n",
        "plt.ylabel('Elderly Population Rate')"
      ],
      "execution_count": 5,
      "outputs": [
        {
          "output_type": "execute_result",
          "data": {
            "text/plain": [
              "Text(0, 0.5, 'Elderly Population Rate')"
            ]
          },
          "metadata": {
            "tags": []
          },
          "execution_count": 5
        },
        {
          "output_type": "display_data",
          "data": {
            "image/png": "[encoded data removed]",
            "text/plain": [
              "<Figure size 432x288 with 1 Axes>"
            ]
          },
          "metadata": {
            "tags": [],
            "needs_background": "light"
          }
        }
      ]
    },
    {
      "cell_type": "code",
      "metadata": {
        "id": "lfUt8GJ1vH8r"
      },
      "source": [
        "# Get the averages of x and y\n",
        "x_bar = sum(X) / len(X)\n",
        "y_bar = sum(Y) / len(Y)"
      ],
      "execution_count": 6,
      "outputs": []
    },
    {
      "cell_type": "code",
      "metadata": {
        "id": "aZ7GBrRjw6z5",
        "outputId": "c6f666ad-fc12-4aa2-e149-3013aa0b2886",
        "colab": {
          "base_uri": "https://localhost:8080/",
          "height": 35
        }
      },
      "source": [
        "# get a and b with Least Square Method\n",
        "a = sum([(y-y_bar)*(x-x_bar) for y, x in list(zip(Y, X))])\n",
        "a /= sum([(x-x_bar)**2 for x in X])\n",
        "\n",
        "b = y_bar - a * x_bar\n",
        "print('a: {} b: {}'.format(a, b))"
      ],
      "execution_count": 7,
      "outputs": [
        {
          "output_type": "stream",
          "text": [
            "a: -0.355834147915461 b: 15.669317743971302\n"
          ],
          "name": "stdout"
        }
      ]
    },
    {
      "cell_type": "code",
      "metadata": {
        "id": "Np9hFXuyxzp9"
      },
      "source": [
        "# get the data of x and y for drawing graph\n",
        "\n",
        "import numpy as np\n",
        "\n",
        "line_x = np.arange(min(X), max(X), 0.01)\n",
        "line_y = a * line_x + b"
      ],
      "execution_count": 8,
      "outputs": []
    },
    {
      "cell_type": "code",
      "metadata": {
        "id": "5O4QIM6uyfrD",
        "outputId": "289966ec-bd9a-47ee-e615-aeb846af5f02",
        "colab": {
          "base_uri": "https://localhost:8080/",
          "height": 283
        }
      },
      "source": [
        "# draw the plot\n",
        "plt.plot(line_x, line_y, 'r-')"
      ],
      "execution_count": 9,
      "outputs": [
        {
          "output_type": "execute_result",
          "data": {
            "text/plain": [
              "[<matplotlib.lines.Line2D at 0x7ff964b1a390>]"
            ]
          },
          "metadata": {
            "tags": []
          },
          "execution_count": 9
        },
        {
          "output_type": "display_data",
          "data": {
            "image/png": "[encoded data removed]",
            "text/plain": [
              "<Figure size 432x288 with 1 Axes>"
            ]
          },
          "metadata": {
            "tags": [],
            "needs_background": "light"
          }
        }
      ]
    },
    {
      "cell_type": "markdown",
      "metadata": {
        "id": "Ku8orxTQ7vLc"
      },
      "source": [
        "### TensorFlow 사용"
      ]
    },
    {
      "cell_type": "code",
      "metadata": {
        "id": "ePjC37Vhypig"
      },
      "source": [
        "import random"
      ],
      "execution_count": 10,
      "outputs": []
    },
    {
      "cell_type": "code",
      "metadata": {
        "id": "FtrPgjmC8U9l"
      },
      "source": [
        "# initialize 'a' and 'b'\n",
        "\n",
        "a = tf.Variable(random.random())\n",
        "b = tf.Variable(random.random())"
      ],
      "execution_count": 11,
      "outputs": []
    },
    {
      "cell_type": "code",
      "metadata": {
        "id": "GuBXtwCC8fLI"
      },
      "source": [
        "# define the fuction for the average of the square of residual\n",
        "\n",
        "def compute_loss():\n",
        "  y_pred = a * X + b\n",
        "  loss = tf.reduce_mean((Y-y_pred)**2)\n",
        "  return loss"
      ],
      "execution_count": 12,
      "outputs": []
    },
    {
      "cell_type": "code",
      "metadata": {
        "id": "7PV3dt1I815x",
        "outputId": "45dbc8d6-ec81-479a-a196-8731d1373fae",
        "colab": {
          "base_uri": "https://localhost:8080/",
          "height": 191
        }
      },
      "source": [
        "optimizer = tf.optimizers.Adam(lr=0.07)\n",
        "for i in range(1000):\n",
        "  # minimize the average of the square of residual\n",
        "  optimizer.minimize(compute_loss, var_list = [a, b])\n",
        "\n",
        "  if i%100 == 99:\n",
        "    print(i, 'a: {} b: {} loss: {}'.format(a.numpy(), b.numpy(), compute_loss().numpy()))"
      ],
      "execution_count": 13,
      "outputs": [
        {
          "output_type": "stream",
          "text": [
            "99 a: 0.11212540417909622 b: 6.848831653594971 loss: 87.40130615234375\n",
            "199 a: -0.12441810220479965 b: 11.30926513671875 loss: 28.746767044067383\n",
            "299 a: -0.26089105010032654 b: 13.880478858947754 loss: 12.973325729370117\n",
            "399 a: -0.32395973801612854 b: 15.068771362304688 loss: 10.140623092651367\n",
            "499 a: -0.34712138772010803 b: 15.505162239074707 loss: 9.807687759399414\n",
            "599 a: -0.3539040982723236 b: 15.63294792175293 loss: 9.782123565673828\n",
            "699 a: -0.35549047589302063 b: 15.662839889526367 loss: 9.780845642089844\n",
            "799 a: -0.35578539967536926 b: 15.668401718139648 loss: 9.780803680419922\n",
            "899 a: -0.355829119682312 b: 15.669218063354492 loss: 9.780803680419922\n",
            "999 a: -0.35583382844924927 b: 15.669301986694336 loss: 9.780802726745605\n"
          ],
          "name": "stdout"
        }
      ]
    },
    {
      "cell_type": "code",
      "metadata": {
        "id": "aN3ncQIl9hAa",
        "outputId": "7e0ffec6-c5c3-419b-d48a-ca397926b932",
        "colab": {
          "base_uri": "https://localhost:8080/",
          "height": 297
        }
      },
      "source": [
        "line_x = np.arange(min(X), max(X), 0.01)\n",
        "line_y = a * line_x + b\n",
        "\n",
        "plt.plot(line_x, line_y, 'r-')\n",
        "plt.plot(X, Y, 'bo')\n",
        "plt.xlabel('Population Growth Rate')\n",
        "plt.ylabel('Elderly Population Rate')"
      ],
      "execution_count": 14,
      "outputs": [
        {
          "output_type": "execute_result",
          "data": {
            "text/plain": [
              "Text(0, 0.5, 'Elderly Population Rate')"
            ]
          },
          "metadata": {
            "tags": []
          },
          "execution_count": 14
        },
        {
          "output_type": "display_data",
          "data": {
            "image/png": "[encoded data removed]",
            "text/plain": [
              "<Figure size 432x288 with 1 Axes>"
            ]
          },
          "metadata": {
            "tags": [],
            "needs_background": "light"
          }
        }
      ]
    },
    {
      "cell_type": "markdown",
      "metadata": {
        "id": "KhmyLlHF1Ida"
      },
      "source": [
        "### polynomial regression\n",
        "- 2nd power; a, b, and c"
      ]
    },
    {
      "cell_type": "code",
      "metadata": {
        "id": "DuvBWAmB-NqH"
      },
      "source": [
        "# initialize a, b, and c by random\n",
        "\n",
        "a = tf.Variable(random.random())\n",
        "b = tf.Variable(random.random())\n",
        "c = tf.Variable(random.random())"
      ],
      "execution_count": 15,
      "outputs": []
    },
    {
      "cell_type": "code",
      "metadata": {
        "id": "s-tGxB5z1Pqs"
      },
      "source": [
        "# define the fuction for returning the meand of the square of the residual error\n",
        "\n",
        "def compute_loss1():\n",
        "  y_pred = a*X*X + b*X + c\n",
        "  loss = tf.reduce_mean((Y-y_pred)**2)\n",
        "  return loss"
      ],
      "execution_count": 16,
      "outputs": []
    },
    {
      "cell_type": "code",
      "metadata": {
        "id": "KT2K3tVC1RB3",
        "outputId": "d404177d-2bb4-44c5-97cc-94a667df0310",
        "colab": {
          "base_uri": "https://localhost:8080/",
          "height": 191
        }
      },
      "source": [
        "optimizer = tf.keras.optimizers.Adam(lr=0.07)\n",
        "\n",
        "for i in range(1000):\n",
        "\n",
        "  # minimize the mean of the square of the residual error\n",
        "  optimizer.minimize(compute_loss1, var_list=[a, b, c])\n",
        "  \n",
        "  if i%100 == 99:\n",
        "    print(i, 'a: {} b: {} c: {} loss: {}'.format(a.numpy(), b.numpy(), c.numpy(), compute_loss1().numpy()))"
      ],
      "execution_count": 17,
      "outputs": [
        {
          "output_type": "stream",
          "text": [
            "99 a: 4.108550071716309 b: -6.095279693603516 c: 6.627121925354004 loss: 66.62771606445312\n",
            "199 a: 2.734295129776001 b: -4.370497703552246 c: 10.388351440429688 loss: 30.78302764892578\n",
            "299 a: 1.2086936235427856 b: -2.12825083732605 c: 13.02059555053711 loss: 15.648122787475586\n",
            "399 a: 0.2723034620285034 b: -0.7527074813842773 c: 14.644331932067871 loss: 10.838088989257812\n",
            "499 a: -0.21816544234752655 b: -0.03245892375707626 c: 15.496553421020508 loss: 9.693038940429688\n",
            "599 a: -0.43904104828834534 b: 0.2918751835823059 c: 15.880484580993652 loss: 9.4872465133667\n",
            "699 a: -0.5248664617538452 b: 0.41790008544921875 c: 16.029674530029297 loss: 9.459233283996582\n",
            "799 a: -0.5536774396896362 b: 0.4602048397064209 c: 16.079761505126953 loss: 9.45634651184082\n",
            "899 a: -0.5620250701904297 b: 0.4724634289741516 c: 16.094270706176758 loss: 9.456123352050781\n",
            "999 a: -0.5641010403633118 b: 0.4755115509033203 c: 16.09787940979004 loss: 9.4561128616333\n"
          ],
          "name": "stdout"
        }
      ]
    },
    {
      "cell_type": "code",
      "metadata": {
        "id": "6kv-XZuV1S6O",
        "outputId": "93a865d0-8ff8-4188-a6f2-ef0832b78a30",
        "colab": {
          "base_uri": "https://localhost:8080/",
          "height": 297
        }
      },
      "source": [
        "# draw the graph\n",
        "\n",
        "line_x = np.arange(min(X), max(X), 0.01)\n",
        "line_y = a * line_x * line_x + b*line_x + c\n",
        "\n",
        "plt.plot(line_x, line_y, 'r-')\n",
        "plt.plot(X, Y, 'bo')\n",
        "plt.xlabel('Population growth rate(%)')\n",
        "plt.ylabel('Elderly Population Rate(%)')"
      ],
      "execution_count": 18,
      "outputs": [
        {
          "output_type": "execute_result",
          "data": {
            "text/plain": [
              "Text(0, 0.5, 'Elderly Population Rate(%)')"
            ]
          },
          "metadata": {
            "tags": []
          },
          "execution_count": 18
        },
        {
          "output_type": "display_data",
          "data": {
            "image/png": "[encoded data removed]",
            "text/plain": [
              "<Figure size 432x288 with 1 Axes>"
            ]
          },
          "metadata": {
            "tags": [],
            "needs_background": "light"
          }
        }
      ]
    },
    {
      "cell_type": "markdown",
      "metadata": {
        "id": "oQPByLZQ1XB6"
      },
      "source": [
        "### Polynomial Regression\n",
        "- 3rd power; a, b, c, and d"
      ]
    },
    {
      "cell_type": "code",
      "metadata": {
        "id": "LGqcy9OY1VLJ"
      },
      "source": [
        "a = tf.Variable(random.random())\n",
        "b = tf.Variable(random.random())\n",
        "c = tf.Variable(random.random())\n",
        "d = tf.Variable(random.random())"
      ],
      "execution_count": 19,
      "outputs": []
    },
    {
      "cell_type": "code",
      "metadata": {
        "id": "tcHsje6g1a_I"
      },
      "source": [
        "def compute_loss2():\n",
        "  y_pred = a*X*X*X + b*X*X + c*X + d\n",
        "  loss = tf.reduce_mean((Y-y_pred)**2)\n",
        "  return loss"
      ],
      "execution_count": 20,
      "outputs": []
    },
    {
      "cell_type": "code",
      "metadata": {
        "id": "CUOgg1FK1cXo",
        "outputId": "d627c92a-eb29-462b-f594-d77ff713ed46",
        "colab": {
          "base_uri": "https://localhost:8080/",
          "height": 191
        }
      },
      "source": [
        "optimizer = tf.keras.optimizers.Adam(lr=0.07)\n",
        "\n",
        "for i in range(1000):\n",
        "  optimizer.minimize(compute_loss2, var_list=[a, b, c, d])\n",
        "\n",
        "  if i%100 == 99:\n",
        "    print(i, 'a: {} b: {} c: {} loss: {}'.format(a.numpy(), b.numpy(), c.numpy(), compute_loss1().numpy()))"
      ],
      "execution_count": 21,
      "outputs": [
        {
          "output_type": "stream",
          "text": [
            "99 a: -1.2759530544281006 b: 6.212776184082031 c: -3.9870755672454834 loss: 445.1162414550781\n",
            "199 a: -2.087669849395752 b: 7.125644683837891 c: -2.286184310913086 loss: 402.24310302734375\n",
            "299 a: -1.7560607194900513 b: 5.381063461303711 c: -0.9545142650604248 loss: 336.6814270019531\n",
            "399 a: -0.9986909031867981 b: 3.0052852630615234 c: -0.5848097801208496 loss: 299.2493591308594\n",
            "499 a: -0.27322185039520264 b: 0.8797671794891357 c: -0.4845025837421417 loss: 276.62603759765625\n",
            "599 a: 0.2960866093635559 b: -0.7679106593132019 c: -0.43964022397994995 loss: 262.4705810546875\n",
            "699 a: 0.7046186327934265 b: -1.947729468345642 c: -0.411581814289093 loss: 253.74734497070312\n",
            "799 a: 0.9790812730789185 b: -2.740002155303955 c: -0.3932951092720032 loss: 248.5130615234375\n",
            "899 a: 1.1525362730026245 b: -3.2406346797943115 c: -0.3818436861038208 loss: 245.4604034423828\n",
            "999 a: 1.2557594776153564 b: -3.5385549068450928 c: -0.37504109740257263 loss: 243.73681640625\n"
          ],
          "name": "stdout"
        }
      ]
    },
    {
      "cell_type": "code",
      "metadata": {
        "id": "eMOY0yFb1eAb",
        "outputId": "929fb5d0-65d8-41df-a3f3-b6bde6346b41",
        "colab": {
          "base_uri": "https://localhost:8080/",
          "height": 283
        }
      },
      "source": [
        "line_x = np.arange(min(X), max(X), 0.01)\n",
        "line_y = a*line_x*line_x*line_x + b*line_x*line_x + c*line_x + d\n",
        "\n",
        "plt.plot(line_x, line_y, 'r-')\n",
        "plt.plot(X, Y, 'bo')"
      ],
      "execution_count": 22,
      "outputs": [
        {
          "output_type": "execute_result",
          "data": {
            "text/plain": [
              "[<matplotlib.lines.Line2D at 0x7ff967c8f780>]"
            ]
          },
          "metadata": {
            "tags": []
          },
          "execution_count": 22
        },
        {
          "output_type": "display_data",
          "data": {
            "image/png": "[encoded data removed]",
            "text/plain": [
              "<Figure size 432x288 with 1 Axes>"
            ]
          },
          "metadata": {
            "tags": [],
            "needs_background": "light"
          }
        }
      ]
    },
    {
      "cell_type": "markdown",
      "metadata": {
        "id": "kc-ppRgv1iJ3"
      },
      "source": [
        "### keras.sequential"
      ]
    },
    {
      "cell_type": "code",
      "metadata": {
        "id": "DW07_YX61gcU",
        "outputId": "8aa55319-a2c2-4147-cce4-cd80da90d71f",
        "colab": {
          "base_uri": "https://localhost:8080/",
          "height": 225
        }
      },
      "source": [
        "model = tf.keras.Sequential([\n",
        "                             tf.keras.layers.Dense(units=6, activation='tanh', input_shape=(1,)),\n",
        "                             tf.keras.layers.Dense(units=1)\n",
        "])\n",
        "\n",
        "model.compile(optimizer=tf.keras.optimizers.SGD(lr=0.1), loss='mse')\n",
        "\n",
        "model.summary()"
      ],
      "execution_count": 23,
      "outputs": [
        {
          "output_type": "stream",
          "text": [
            "Model: \"sequential\"\n",
            "_________________________________________________________________\n",
            "Layer (type)                 Output Shape              Param #   \n",
            "=================================================================\n",
            "dense (Dense)                (None, 6)                 12        \n",
            "_________________________________________________________________\n",
            "dense_1 (Dense)              (None, 1)                 7         \n",
            "=================================================================\n",
            "Total params: 19\n",
            "Trainable params: 19\n",
            "Non-trainable params: 0\n",
            "_________________________________________________________________\n"
          ],
          "name": "stdout"
        }
      ]
    },
    {
      "cell_type": "code",
      "metadata": {
        "id": "2sqTD_gH1n7n",
        "outputId": "7886e6c5-cb00-4f4f-b175-14b5e32137df",
        "colab": {
          "base_uri": "https://localhost:8080/",
          "height": 381
        }
      },
      "source": [
        "model.fit(X, Y, epochs=10)"
      ],
      "execution_count": 24,
      "outputs": [
        {
          "output_type": "stream",
          "text": [
            "Epoch 1/10\n",
            "1/1 [==============================] - 0s 2ms/step - loss: 254.8648\n",
            "Epoch 2/10\n",
            "1/1 [==============================] - 0s 1ms/step - loss: 108.5711\n",
            "Epoch 3/10\n",
            "1/1 [==============================] - 0s 3ms/step - loss: 9.8922\n",
            "Epoch 4/10\n",
            "1/1 [==============================] - 0s 1ms/step - loss: 9.6883\n",
            "Epoch 5/10\n",
            "1/1 [==============================] - 0s 2ms/step - loss: 9.6637\n",
            "Epoch 6/10\n",
            "1/1 [==============================] - 0s 1ms/step - loss: 9.6590\n",
            "Epoch 7/10\n",
            "1/1 [==============================] - 0s 1ms/step - loss: 9.6557\n",
            "Epoch 8/10\n",
            "1/1 [==============================] - 0s 1ms/step - loss: 9.6523\n",
            "Epoch 9/10\n",
            "1/1 [==============================] - 0s 1ms/step - loss: 9.6488\n",
            "Epoch 10/10\n",
            "1/1 [==============================] - 0s 2ms/step - loss: 9.6452\n"
          ],
          "name": "stdout"
        },
        {
          "output_type": "execute_result",
          "data": {
            "text/plain": [
              "<tensorflow.python.keras.callbacks.History at 0x7ff95e16bc18>"
            ]
          },
          "metadata": {
            "tags": []
          },
          "execution_count": 24
        }
      ]
    },
    {
      "cell_type": "code",
      "metadata": {
        "id": "roqTs17N2m8m",
        "outputId": "f24b9c77-52d1-4ae7-b345-6b4f34f5dea7",
        "colab": {
          "base_uri": "https://localhost:8080/",
          "height": 295
        }
      },
      "source": [
        "model.predict(X)"
      ],
      "execution_count": 25,
      "outputs": [
        {
          "output_type": "execute_result",
          "data": {
            "text/plain": [
              "array([[15.880758],\n",
              "       [15.684193],\n",
              "       [15.621919],\n",
              "       [15.864438],\n",
              "       [15.701081],\n",
              "       [15.879871],\n",
              "       [15.820843],\n",
              "       [15.768272],\n",
              "       [15.687047],\n",
              "       [15.792504],\n",
              "       [15.664044],\n",
              "       [15.783037],\n",
              "       [15.814663],\n",
              "       [15.863261],\n",
              "       [15.689895],\n",
              "       [13.940868]], dtype=float32)"
            ]
          },
          "metadata": {
            "tags": []
          },
          "execution_count": 25
        }
      ]
    },
    {
      "cell_type": "code",
      "metadata": {
        "id": "Mz2CCj5a2xFb",
        "outputId": "730a5b9d-a805-4bdd-970a-d474e84dde98",
        "colab": {
          "base_uri": "https://localhost:8080/",
          "height": 297
        }
      },
      "source": [
        "#draw the graph\n",
        "\n",
        "line_x = np.arange(min(X), max(X), 0.01)\n",
        "line_y = model.predict(line_x)\n",
        "\n",
        "plt.plot(line_x, line_y, 'r-')\n",
        "plt.plot(X, Y, 'bo')\n",
        "plt.xlabel('Population growth rate(%)')\n",
        "plt.ylabel('Elderly Population Rate(%)')"
      ],
      "execution_count": 26,
      "outputs": [
        {
          "output_type": "execute_result",
          "data": {
            "text/plain": [
              "Text(0, 0.5, 'Elderly Population Rate(%)')"
            ]
          },
          "metadata": {
            "tags": []
          },
          "execution_count": 26
        },
        {
          "output_type": "display_data",
          "data": {
            "image/png": "[encoded data removed]",
            "text/plain": [
              "<Figure size 432x288 with 1 Axes>"
            ]
          },
          "metadata": {
            "tags": [],
            "needs_background": "light"
          }
        }
      ]
    },
    {
      "cell_type": "code",
      "metadata": {
        "id": "5a229zec3TpE"
      },
      "source": [
        ""
      ],
      "execution_count": 26,
      "outputs": []
    }
  ]
}