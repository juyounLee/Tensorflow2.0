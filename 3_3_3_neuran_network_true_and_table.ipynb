{
  "nbformat": 4,
  "nbformat_minor": 0,
  "metadata": {
    "colab": {
      "name": "3.3.3_neuran_network_true_and_table.ipynb",
      "provenance": [],
      "authorship_tag": "ABX9TyOQ93hLryN4oUOknizI8Nq3",
      "include_colab_link": true
    },
    "kernelspec": {
      "name": "python3",
      "display_name": "Python 3"
    }
  },
  "cells": [
    {
      "cell_type": "markdown",
      "metadata": {
        "id": "view-in-github",
        "colab_type": "text"
      },
      "source": [
        "<a href=\"https://colab.research.google.com/github/juyounLee/Tensorflow2.0/blob/main/3_3_3_neuran_network_true_and_table.ipynb\" target=\"_parent\"><img src=\"https://colab.research.google.com/assets/colab-badge.svg\" alt=\"Open In Colab\"/></a>"
      ]
    },
    {
      "cell_type": "code",
      "metadata": {
        "id": "KzZGOkLTY8LH"
      },
      "source": [
        "import tensorflow as tf"
      ],
      "execution_count": 1,
      "outputs": []
    },
    {
      "cell_type": "code",
      "metadata": {
        "id": "O5j6-5eqaHOS"
      },
      "source": [
        "import math\n",
        "\n",
        "def sigmoid(x):\n",
        "  return 1 / (1+math.exp(-x))"
      ],
      "execution_count": 2,
      "outputs": []
    },
    {
      "cell_type": "code",
      "metadata": {
        "id": "F6xj4xXSZW89",
        "outputId": "51a58860-356e-4505-bcb5-d0439da46435",
        "colab": {
          "base_uri": "https://localhost:8080/",
          "height": 191
        }
      },
      "source": [
        "import numpy as np\n",
        "\n",
        "x = np.array([[1, 1], [1, 0], [0, 1], [0, 0]])\n",
        "y = np.array([[1], [0], [0], [0]])\n",
        "w = tf.random.normal((2, ), 0, 1)\n",
        "b = tf.random.normal((1, ), 0, 1)\n",
        "b_x = 1\n",
        "\n",
        "for i in range(2000):\n",
        "  error_sum = 0\n",
        "  for j in range(4):\n",
        "    output = sigmoid(np.sum(x[j]*w) + b_x * b)\n",
        "    error = y[j][0] - output\n",
        "    w = w + x[j] * 0.1 * error\n",
        "    b = b + b_x * 0.1 * error\n",
        "    error_sum += error\n",
        "  \n",
        "  if i % 200 == 199:\n",
        "    print(i, error_sum, error, output)"
      ],
      "execution_count": 3,
      "outputs": [
        {
          "output_type": "stream",
          "text": [
            "199 -0.11031334731631123 -0.013131191254331182 0.013131191254331182\n",
            "399 -0.0657066501593548 -0.002468112129093213 0.002468112129093213\n",
            "599 -0.04667653578072044 -0.0008213784066366516 0.0008213784066366516\n",
            "799 -0.036089560789417344 -0.0003625347637071154 0.0003625347637071154\n",
            "999 -0.02936348597785119 -0.00018935146285380765 0.00018935146285380765\n",
            "1199 -0.024721419675818982 -0.00011057183992656063 0.00011057183992656063\n",
            "1399 -0.0213314486794971 -6.989442705484364e-05 6.989442705484364e-05\n",
            "1599 -0.018749008618856734 -4.687239644336998e-05 4.687239644336998e-05\n",
            "1799 -0.016717418586916534 -3.290519967933444e-05 3.290519967933444e-05\n",
            "1999 -0.015079030517812354 -2.3958007289292993e-05 2.3958007289292993e-05\n"
          ],
          "name": "stdout"
        }
      ]
    },
    {
      "cell_type": "code",
      "metadata": {
        "id": "fThxYUZdamkm",
        "outputId": "9023462f-7166-4b12-caf6-db677ac67d50",
        "colab": {
          "base_uri": "https://localhost:8080/",
          "height": 87
        }
      },
      "source": [
        "for i in range(4):\n",
        "  print('X: ', x[i], 'Y: ', y[i], 'Output: {:.2f}'.format(sigmoid(np.sum(x[i]*w) + b)))"
      ],
      "execution_count": 4,
      "outputs": [
        {
          "output_type": "stream",
          "text": [
            "X:  [1 1] Y:  [1] Output: 0.96\n",
            "X:  [1 0] Y:  [0] Output: 0.02\n",
            "X:  [0 1] Y:  [0] Output: 0.03\n",
            "X:  [0 0] Y:  [0] Output: 0.00\n"
          ],
          "name": "stdout"
        }
      ]
    },
    {
      "cell_type": "code",
      "metadata": {
        "id": "wQ0PZppGbsvf",
        "outputId": "3627354b-7ba8-4357-e434-fa0159c70291",
        "colab": {
          "base_uri": "https://localhost:8080/",
          "height": 35
        }
      },
      "source": [
        "print('w: {} b: {}'.format(w, b))"
      ],
      "execution_count": 5,
      "outputs": [
        {
          "output_type": "stream",
          "text": [
            "w: [6.9734106 6.9765487] b: [-10.639187]\n"
          ],
          "name": "stdout"
        }
      ]
    }
  ]
}