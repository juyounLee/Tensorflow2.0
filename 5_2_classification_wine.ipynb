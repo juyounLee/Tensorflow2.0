{
  "nbformat": 4,
  "nbformat_minor": 0,
  "metadata": {
    "colab": {
      "name": "5.2_classification_wine.ipynb",
      "provenance": [],
      "authorship_tag": "ABX9TyNaMP8N9stCcqnH18XdBaFH",
      "include_colab_link": true
    },
    "kernelspec": {
      "name": "python3",
      "display_name": "Python 3"
    },
    "accelerator": "GPU"
  },
  "cells": [
    {
      "cell_type": "markdown",
      "metadata": {
        "id": "view-in-github",
        "colab_type": "text"
      },
      "source": [
        "<a href=\"https://colab.research.google.com/github/juyounLee/Tensorflow2.0/blob/main/5_2_classification_wine.ipynb\" target=\"_parent\"><img src=\"https://colab.research.google.com/assets/colab-badge.svg\" alt=\"Open In Colab\"/></a>"
      ]
    },
    {
      "cell_type": "code",
      "metadata": {
        "id": "kApCSJ5zNRVK"
      },
      "source": [
        "import pandas as pd\n",
        "import tensorflow as tf\n",
        "import matplotlib.pyplot as plt\n",
        "\n",
        "# load the data\n",
        "\n",
        "red = pd.read_csv('http://archive.ics.uci.edu/ml/machine-learning-databases/wine-quality/winequality-red.csv', sep=';')\n",
        "white = pd.read_csv('http://archive.ics.uci.edu/ml/machine-learning-databases/wine-quality/winequality-white.csv', sep=';')"
      ],
      "execution_count": 1,
      "outputs": []
    },
    {
      "cell_type": "code",
      "metadata": {
        "id": "xKn1X7VMNtTV",
        "outputId": "0d2dc486-ba4a-455d-d8f3-526437898347",
        "colab": {
          "base_uri": "https://localhost:8080/",
          "height": 381
        }
      },
      "source": [
        "# combine the data\n",
        "\n",
        "red['type'] = 0\n",
        "white['type'] = 1\n",
        "\n",
        "wine = pd.concat([red, white])\n",
        "print(wine.info())"
      ],
      "execution_count": 2,
      "outputs": [
        {
          "output_type": "stream",
          "text": [
            "<class 'pandas.core.frame.DataFrame'>\n",
            "Int64Index: 6497 entries, 0 to 4897\n",
            "Data columns (total 13 columns):\n",
            " #   Column                Non-Null Count  Dtype  \n",
            "---  ------                --------------  -----  \n",
            " 0   fixed acidity         6497 non-null   float64\n",
            " 1   volatile acidity      6497 non-null   float64\n",
            " 2   citric acid           6497 non-null   float64\n",
            " 3   residual sugar        6497 non-null   float64\n",
            " 4   chlorides             6497 non-null   float64\n",
            " 5   free sulfur dioxide   6497 non-null   float64\n",
            " 6   total sulfur dioxide  6497 non-null   float64\n",
            " 7   density               6497 non-null   float64\n",
            " 8   pH                    6497 non-null   float64\n",
            " 9   sulphates             6497 non-null   float64\n",
            " 10  alcohol               6497 non-null   float64\n",
            " 11  quality               6497 non-null   int64  \n",
            " 12  type                  6497 non-null   int64  \n",
            "dtypes: float64(11), int64(2)\n",
            "memory usage: 710.6 KB\n",
            "None\n"
          ],
          "name": "stdout"
        }
      ]
    },
    {
      "cell_type": "code",
      "metadata": {
        "id": "B9X-2YovOCH_",
        "outputId": "d8b25381-ba5d-4873-834b-2ba33521951a",
        "colab": {
          "base_uri": "https://localhost:8080/",
          "height": 473
        }
      },
      "source": [
        "# count the number of quality\n",
        "print(wine['quality'].value_counts())\n",
        "\n",
        "plt.hist(wine['quality'], bins=7, rwidth=0.8)"
      ],
      "execution_count": 3,
      "outputs": [
        {
          "output_type": "stream",
          "text": [
            "6    2836\n",
            "5    2138\n",
            "7    1079\n",
            "4     216\n",
            "8     193\n",
            "3      30\n",
            "9       5\n",
            "Name: quality, dtype: int64\n"
          ],
          "name": "stdout"
        },
        {
          "output_type": "execute_result",
          "data": {
            "text/plain": [
              "(array([  30.,  216., 2138., 2836., 1079.,  193.,    5.]),\n",
              " array([3.        , 3.85714286, 4.71428571, 5.57142857, 6.42857143,\n",
              "        7.28571429, 8.14285714, 9.        ]),\n",
              " <a list of 7 Patch objects>)"
            ]
          },
          "metadata": {
            "tags": []
          },
          "execution_count": 3
        },
        {
          "output_type": "display_data",
          "data": {
            "image/png": "[encoded data removed]",
            "text/plain": [
              "<Figure size 432x288 with 1 Axes>"
            ]
          },
          "metadata": {
            "tags": [],
            "needs_background": "light"
          }
        }
      ]
    },
    {
      "cell_type": "code",
      "metadata": {
        "id": "v3EFB5bIOS2P"
      },
      "source": [
        "# quality 3~5: Bad, quality 7~9: Good, and quatliy 6: Average\n",
        "\n",
        "wine.loc[wine['quality'] <= 5, 'new_quality'] = 0\n",
        "wine.loc[wine['quality'] == 6, 'new_quality'] = 1\n",
        "wine.loc[wine['quality'] >=7, 'new_quality'] = 2"
      ],
      "execution_count": 4,
      "outputs": []
    },
    {
      "cell_type": "code",
      "metadata": {
        "id": "O18WlK9MQ482"
      },
      "source": [
        "# normalize the data\n",
        "\n",
        "del wine['quality']\n",
        "\n",
        "wine_norm = (wine - wine.min()) / (wine.max() - wine.min())\n",
        "wine_shuffle = wine_norm.sample(frac=1)\n",
        "wine_np = wine_shuffle.to_numpy()"
      ],
      "execution_count": 5,
      "outputs": []
    },
    {
      "cell_type": "code",
      "metadata": {
        "id": "VT5Ojh11R5J_"
      },
      "source": [
        "# split the train and test set\n",
        "\n",
        "train_index = int(len(wine_np) * 0.8)\n",
        "train_X = wine_np[:train_index, :-1]\n",
        "train_y = wine_np[:train_index, -1]\n",
        "\n",
        "test_X = wine_np[train_index:, :-1]\n",
        "test_y = wine_np[train_index:, -1]"
      ],
      "execution_count": 6,
      "outputs": []
    },
    {
      "cell_type": "code",
      "metadata": {
        "id": "cUGyzWNrS3Jb"
      },
      "source": [
        "# categorize\n",
        "\n",
        "train_y = tf.keras.utils.to_categorical(train_y, num_classes=3)\n",
        "test_y = tf.keras.utils.to_categorical(test_y, num_classes=3)"
      ],
      "execution_count": 7,
      "outputs": []
    },
    {
      "cell_type": "code",
      "metadata": {
        "id": "W1BoMboRUzfq",
        "outputId": "1d3b42d4-2a28-4de1-fd64-6b74634da3a1",
        "colab": {
          "base_uri": "https://localhost:8080/",
          "height": 52
        }
      },
      "source": [
        "print(train_X.shape)\n",
        "print(test_X.shape)"
      ],
      "execution_count": 8,
      "outputs": [
        {
          "output_type": "stream",
          "text": [
            "(5197, 12)\n",
            "(1300, 12)\n"
          ],
          "name": "stdout"
        }
      ]
    },
    {
      "cell_type": "code",
      "metadata": {
        "id": "WGKFt1pETYH4",
        "outputId": "f37c6356-fa28-4675-b596-304c16b7701f",
        "colab": {
          "base_uri": "https://localhost:8080/",
          "height": 884
        }
      },
      "source": [
        "# build the model\n",
        "\n",
        "model = tf.keras.Sequential([\n",
        "                             tf.keras.layers.Dense(units=48, activation='relu', input_shape=(12, )),\n",
        "                             tf.keras.layers.Dense(units=24, activation='relu'),\n",
        "                             tf.keras.layers.Dense(units=12, activation='relu'),\n",
        "                             tf.keras.layers.Dense(units=3, activation='softmax')\n",
        "])\n",
        "\n",
        "model.compile(optimizer = tf.keras.optimizers.Adam(lr=0.07), loss='categorical_crossentropy', metrics=['accuracy'])\n",
        "history = model.fit(train_X, train_y, epochs=25, batch_size=32, validation_split=0.25)"
      ],
      "execution_count": 9,
      "outputs": [
        {
          "output_type": "stream",
          "text": [
            "Epoch 1/25\n",
            "122/122 [==============================] - 0s 4ms/step - loss: 0.4563 - accuracy: 0.7975 - val_loss: 0.4187 - val_accuracy: 0.8054\n",
            "Epoch 2/25\n",
            "122/122 [==============================] - 0s 3ms/step - loss: 0.4253 - accuracy: 0.8024 - val_loss: 0.4355 - val_accuracy: 0.8023\n",
            "Epoch 3/25\n",
            "122/122 [==============================] - 0s 3ms/step - loss: 0.4088 - accuracy: 0.8127 - val_loss: 0.4518 - val_accuracy: 0.7885\n",
            "Epoch 4/25\n",
            "122/122 [==============================] - 0s 3ms/step - loss: 0.4211 - accuracy: 0.7960 - val_loss: 0.4214 - val_accuracy: 0.8054\n",
            "Epoch 5/25\n",
            "122/122 [==============================] - 0s 3ms/step - loss: 0.4035 - accuracy: 0.8106 - val_loss: 0.4088 - val_accuracy: 0.8154\n",
            "Epoch 6/25\n",
            "122/122 [==============================] - 0s 3ms/step - loss: 0.4033 - accuracy: 0.8060 - val_loss: 0.4146 - val_accuracy: 0.8185\n",
            "Epoch 7/25\n",
            "122/122 [==============================] - 0s 3ms/step - loss: 0.4007 - accuracy: 0.8109 - val_loss: 0.4409 - val_accuracy: 0.8154\n",
            "Epoch 8/25\n",
            "122/122 [==============================] - 0s 2ms/step - loss: 0.3969 - accuracy: 0.8047 - val_loss: 0.4079 - val_accuracy: 0.8069\n",
            "Epoch 9/25\n",
            "122/122 [==============================] - 0s 3ms/step - loss: 0.3974 - accuracy: 0.8124 - val_loss: 0.4054 - val_accuracy: 0.8192\n",
            "Epoch 10/25\n",
            "122/122 [==============================] - 0s 3ms/step - loss: 0.3941 - accuracy: 0.8088 - val_loss: 0.4062 - val_accuracy: 0.8162\n",
            "Epoch 11/25\n",
            "122/122 [==============================] - 0s 3ms/step - loss: 0.4088 - accuracy: 0.8086 - val_loss: 0.3958 - val_accuracy: 0.8223\n",
            "Epoch 12/25\n",
            "122/122 [==============================] - 0s 3ms/step - loss: 0.4024 - accuracy: 0.8132 - val_loss: 0.4217 - val_accuracy: 0.8054\n",
            "Epoch 13/25\n",
            "122/122 [==============================] - 0s 3ms/step - loss: 0.4058 - accuracy: 0.8096 - val_loss: 0.4092 - val_accuracy: 0.8123\n",
            "Epoch 14/25\n",
            "122/122 [==============================] - 0s 3ms/step - loss: 0.3980 - accuracy: 0.8104 - val_loss: 0.3981 - val_accuracy: 0.8192\n",
            "Epoch 15/25\n",
            "122/122 [==============================] - 0s 3ms/step - loss: 0.4037 - accuracy: 0.8057 - val_loss: 0.4381 - val_accuracy: 0.8054\n",
            "Epoch 16/25\n",
            "122/122 [==============================] - 0s 2ms/step - loss: 0.4055 - accuracy: 0.7993 - val_loss: 0.4022 - val_accuracy: 0.8023\n",
            "Epoch 17/25\n",
            "122/122 [==============================] - 0s 3ms/step - loss: 0.3989 - accuracy: 0.8001 - val_loss: 0.4050 - val_accuracy: 0.8054\n",
            "Epoch 18/25\n",
            "122/122 [==============================] - 0s 3ms/step - loss: 0.3995 - accuracy: 0.8057 - val_loss: 0.4410 - val_accuracy: 0.8054\n",
            "Epoch 19/25\n",
            "122/122 [==============================] - 0s 3ms/step - loss: 0.4051 - accuracy: 0.8078 - val_loss: 0.4052 - val_accuracy: 0.8169\n",
            "Epoch 20/25\n",
            "122/122 [==============================] - 0s 3ms/step - loss: 0.4202 - accuracy: 0.7998 - val_loss: 0.4435 - val_accuracy: 0.8054\n",
            "Epoch 21/25\n",
            "122/122 [==============================] - 0s 3ms/step - loss: 0.4026 - accuracy: 0.8111 - val_loss: 0.4162 - val_accuracy: 0.8192\n",
            "Epoch 22/25\n",
            "122/122 [==============================] - 0s 3ms/step - loss: 0.3991 - accuracy: 0.8073 - val_loss: 0.4217 - val_accuracy: 0.8177\n",
            "Epoch 23/25\n",
            "122/122 [==============================] - 0s 3ms/step - loss: 0.4002 - accuracy: 0.8060 - val_loss: 0.4038 - val_accuracy: 0.8054\n",
            "Epoch 24/25\n",
            "122/122 [==============================] - 0s 2ms/step - loss: 0.3988 - accuracy: 0.8016 - val_loss: 0.4105 - val_accuracy: 0.8046\n",
            "Epoch 25/25\n",
            "122/122 [==============================] - 0s 3ms/step - loss: 0.4061 - accuracy: 0.7968 - val_loss: 0.4900 - val_accuracy: 0.7285\n"
          ],
          "name": "stdout"
        }
      ]
    },
    {
      "cell_type": "code",
      "metadata": {
        "id": "wcVyCdV1UTqy",
        "outputId": "08b3dac0-a765-44e8-9b5d-10ede30ace5f",
        "colab": {
          "base_uri": "https://localhost:8080/",
          "height": 297
        }
      },
      "source": [
        "plt.figure(figsize=(12, 4))\n",
        "\n",
        "plt.subplot(1, 2, 1)\n",
        "plt.plot(history.history['loss'] ,'b-', label='loss')\n",
        "plt.plot(history.history['val_loss'], 'r--', label='val_loss')\n",
        "plt.xlabel('Epoch')\n",
        "plt.legend()\n",
        "\n",
        "plt.subplot(1, 2, 2)\n",
        "plt.plot(history.history['accuracy'], 'g-', label='accuracy')\n",
        "plt.plot(history.history['val_accuracy'], 'k--', label='val_accuracy')\n",
        "plt.xlabel('Epoch')\n",
        "plt.legend()"
      ],
      "execution_count": 10,
      "outputs": [
        {
          "output_type": "execute_result",
          "data": {
            "text/plain": [
              "<matplotlib.legend.Legend at 0x7f12a5d9d390>"
            ]
          },
          "metadata": {
            "tags": []
          },
          "execution_count": 10
        },
        {
          "output_type": "display_data",
          "data": {
            "image/png": "[encoded data removed]",
            "text/plain": [
              "<Figure size 864x288 with 2 Axes>"
            ]
          },
          "metadata": {
            "tags": [],
            "needs_background": "light"
          }
        }
      ]
    },
    {
      "cell_type": "code",
      "metadata": {
        "id": "f6JJZbsbWVae",
        "outputId": "f42732fb-36fd-4aaa-a2a1-f3a4724e5932",
        "colab": {
          "base_uri": "https://localhost:8080/",
          "height": 52
        }
      },
      "source": [
        "model.evaluate(test_X, test_y)"
      ],
      "execution_count": 11,
      "outputs": [
        {
          "output_type": "stream",
          "text": [
            "41/41 [==============================] - 0s 2ms/step - loss: 0.4831 - accuracy: 0.7385\n"
          ],
          "name": "stdout"
        },
        {
          "output_type": "execute_result",
          "data": {
            "text/plain": [
              "[0.4831421375274658, 0.7384615540504456]"
            ]
          },
          "metadata": {
            "tags": []
          },
          "execution_count": 11
        }
      ]
    },
    {
      "cell_type": "code",
      "metadata": {
        "id": "OgzeOmePWrWl"
      },
      "source": [
        ""
      ],
      "execution_count": 11,
      "outputs": []
    }
  ]
}