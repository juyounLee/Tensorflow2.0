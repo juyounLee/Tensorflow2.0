{
  "nbformat": 4,
  "nbformat_minor": 0,
  "metadata": {
    "colab": {
      "name": "3.3.2_neuran.ipynb",
      "provenance": [],
      "authorship_tag": "ABX9TyMQ6IdZZKD8J2bW8NL1fil4",
      "include_colab_link": true
    },
    "kernelspec": {
      "name": "python3",
      "display_name": "Python 3"
    }
  },
  "cells": [
    {
      "cell_type": "markdown",
      "metadata": {
        "id": "view-in-github",
        "colab_type": "text"
      },
      "source": [
        "<a href=\"https://colab.research.google.com/github/juyounLee/Tensorflow2.0/blob/main/3_3_2_neuran.ipynb\" target=\"_parent\"><img src=\"https://colab.research.google.com/assets/colab-badge.svg\" alt=\"Open In Colab\"/></a>"
      ]
    },
    {
      "cell_type": "code",
      "metadata": {
        "id": "ocjY87AIdt5A"
      },
      "source": [
        "import tensorflow as tf"
      ],
      "execution_count": 1,
      "outputs": []
    },
    {
      "cell_type": "code",
      "metadata": {
        "id": "QY9n_vsXdzYU",
        "outputId": "50218656-4b5f-449d-9f2c-be9768bc7032",
        "colab": {
          "base_uri": "https://localhost:8080/",
          "height": 35
        }
      },
      "source": [
        "tf.__version__"
      ],
      "execution_count": 2,
      "outputs": [
        {
          "output_type": "execute_result",
          "data": {
            "application/vnd.google.colaboratory.intrinsic+json": {
              "type": "string"
            },
            "text/plain": [
              "'2.3.0'"
            ]
          },
          "metadata": {
            "tags": []
          },
          "execution_count": 2
        }
      ]
    },
    {
      "cell_type": "code",
      "metadata": {
        "id": "zQC-z6fBewOM"
      },
      "source": [
        "rand = tf.random.uniform([2, 1], 0, 1)"
      ],
      "execution_count": 3,
      "outputs": []
    },
    {
      "cell_type": "code",
      "metadata": {
        "id": "x2g3tfwmJdxy",
        "outputId": "27a43fbd-b9d4-4a4e-ebdc-13a5d0758f0e",
        "colab": {
          "base_uri": "https://localhost:8080/",
          "height": 69
        }
      },
      "source": [
        "rand"
      ],
      "execution_count": 4,
      "outputs": [
        {
          "output_type": "execute_result",
          "data": {
            "text/plain": [
              "<tf.Tensor: shape=(2, 1), dtype=float32, numpy=\n",
              "array([[0.30131388],\n",
              "       [0.7961557 ]], dtype=float32)>"
            ]
          },
          "metadata": {
            "tags": []
          },
          "execution_count": 4
        }
      ]
    },
    {
      "cell_type": "code",
      "metadata": {
        "id": "NKPSW5IIJezh",
        "outputId": "2d02af7b-214b-440e-e9e2-f608867136fe",
        "colab": {
          "base_uri": "https://localhost:8080/",
          "height": 35
        }
      },
      "source": [
        "rand1 = tf.random.uniform((1,), 0, 1)\n",
        "rand1"
      ],
      "execution_count": 5,
      "outputs": [
        {
          "output_type": "execute_result",
          "data": {
            "text/plain": [
              "<tf.Tensor: shape=(1,), dtype=float32, numpy=array([0.04609144], dtype=float32)>"
            ]
          },
          "metadata": {
            "tags": []
          },
          "execution_count": 5
        }
      ]
    },
    {
      "cell_type": "code",
      "metadata": {
        "id": "B3xCK2T88zGE"
      },
      "source": [
        "import math\n",
        "\n",
        "def sigmoid(x):\n",
        "  return 1 / (1+math.exp(-x))"
      ],
      "execution_count": 6,
      "outputs": []
    },
    {
      "cell_type": "code",
      "metadata": {
        "id": "jJOJbXcCQ0WZ",
        "outputId": "8bb008c4-21a5-4a72-ce0b-36495a98b8a3",
        "colab": {
          "base_uri": "https://localhost:8080/",
          "height": 35
        }
      },
      "source": [
        "x = 1\n",
        "y = 0\n",
        "w = tf.random.normal((1,), 0, 1)\n",
        "output = sigmoid (w * x)\n",
        "print(output)"
      ],
      "execution_count": 7,
      "outputs": [
        {
          "output_type": "stream",
          "text": [
            "0.3121134813211844\n"
          ],
          "name": "stdout"
        }
      ]
    },
    {
      "cell_type": "code",
      "metadata": {
        "id": "dBwHw_g18_u4",
        "outputId": "af91c384-f360-45e9-fa73-fce87cbe4b14",
        "colab": {
          "base_uri": "https://localhost:8080/",
          "height": 191
        }
      },
      "source": [
        "for i in range(1000):\n",
        "  output = sigmoid(x * w)\n",
        "  error = y - output\n",
        "  w = w + x * 0.1 * error\n",
        "\n",
        "  if i % 100 == 99:\n",
        "    print(i, error, output, w) # i = 99, 199, 299, ..., 999 일때만 출력"
      ],
      "execution_count": 8,
      "outputs": [
        {
          "output_type": "stream",
          "text": [
            "99 -0.0862208030107988 0.0862208030107988 tf.Tensor([-2.3692997], shape=(1,), dtype=float32)\n",
            "199 -0.04763460787745849 0.04763460787745849 tf.Tensor([-3.0001526], shape=(1,), dtype=float32)\n",
            "299 -0.03265942953899694 0.03265942953899694 tf.Tensor([-3.3916829], shape=(1,), dtype=float32)\n",
            "399 -0.02478390554726238 0.02478390554726238 tf.Tensor([-3.674943], shape=(1,), dtype=float32)\n",
            "499 -0.01994515871804836 0.01994515871804836 tf.Tensor([-3.8966167], shape=(1,), dtype=float32)\n",
            "599 -0.016676616345671847 0.016676616345671847 tf.Tensor([-4.078598], shape=(1,), dtype=float32)\n",
            "699 -0.014323088589964962 0.014323088589964962 tf.Tensor([-4.232888], shape=(1,), dtype=float32)\n",
            "799 -0.012548660097958166 0.012548660097958166 tf.Tensor([-4.3667684], shape=(1,), dtype=float32)\n",
            "899 -0.0111635621208894 0.0111635621208894 tf.Tensor([-4.48499], shape=(1,), dtype=float32)\n",
            "999 -0.01005262015448025 0.01005262015448025 tf.Tensor([-4.5908237], shape=(1,), dtype=float32)\n"
          ],
          "name": "stdout"
        }
      ]
    },
    {
      "cell_type": "code",
      "metadata": {
        "id": "HoS2h5NW_qe_",
        "outputId": "f8fae897-5609-4422-feeb-3958faf52ed9",
        "colab": {
          "base_uri": "https://localhost:8080/",
          "height": 191
        }
      },
      "source": [
        "# bias \n",
        "x = 0\n",
        "y = 1\n",
        "w = tf.random.normal((1,), 0, 1)\n",
        "b = tf.random.normal((1,), 0, 1)\n",
        "\n",
        "for i in range(1000):\n",
        "  output = sigmoid(x*w + 1*b)\n",
        "  error = y - output\n",
        "  w = w + x*0.1*error\n",
        "  b = b + 1*0.1*error\n",
        "\n",
        "  if i%100 == 99:\n",
        "    print(i, error, output)"
      ],
      "execution_count": 9,
      "outputs": [
        {
          "output_type": "stream",
          "text": [
            "99 0.12693957468770822 0.8730604253122918\n",
            "199 0.058589212003853475 0.9414107879961465\n",
            "299 0.037560694192261934 0.9624393058077381\n",
            "399 0.027534375614019724 0.9724656243859803\n",
            "499 0.021698557677613972 0.978301442322386\n",
            "599 0.017889475793032572 0.9821105242069674\n",
            "699 0.015210954580885394 0.9847890454191146\n",
            "799 0.013226213041090507 0.9867737869589095\n",
            "899 0.01169740769145533 0.9883025923085447\n",
            "999 0.010483970151460076 0.9895160298485399\n"
          ],
          "name": "stdout"
        }
      ]
    },
    {
      "cell_type": "code",
      "metadata": {
        "id": "VrmSgA11HkCZ"
      },
      "source": [
        ""
      ],
      "execution_count": 9,
      "outputs": []
    }
  ]
}