{
  "nbformat": 4,
  "nbformat_minor": 0,
  "metadata": {
    "colab": {
      "name": "6.4_VGGNet_FashionMNIST.ipynb",
      "provenance": [],
      "authorship_tag": "ABX9TyNlXHh2dxK81YHxdnq5GVTx",
      "include_colab_link": true
    },
    "kernelspec": {
      "name": "python3",
      "display_name": "Python 3"
    },
    "accelerator": "GPU"
  },
  "cells": [
    {
      "cell_type": "markdown",
      "metadata": {
        "id": "view-in-github",
        "colab_type": "text"
      },
      "source": [
        "<a href=\"https://colab.research.google.com/github/juyounLee/Tensorflow2.0/blob/main/6_4_VGGNet_FashionMNIST.ipynb\" target=\"_parent\"><img src=\"https://colab.research.google.com/assets/colab-badge.svg\" alt=\"Open In Colab\"/></a>"
      ]
    },
    {
      "cell_type": "code",
      "metadata": {
        "id": "IJ8X1Z7cvRnK"
      },
      "source": [
        "import tensorflow as tf\n",
        "import matplotlib.pyplot as plt"
      ],
      "execution_count": 2,
      "outputs": []
    },
    {
      "cell_type": "code",
      "metadata": {
        "id": "fp3XSZ6vxLNo",
        "outputId": "2867feb5-0f08-4d75-f59c-bd25970f3dd4",
        "colab": {
          "base_uri": "https://localhost:8080/",
          "height": 156
        }
      },
      "source": [
        "# load the data\n",
        "\n",
        "fashion = tf.keras.datasets.fashion_mnist\n",
        "(train_X, train_y), (test_X, test_y) = fashion.load_data()\n",
        "\n",
        "train_X = train_X / 255.0\n",
        "test_X = test_X / 255.0"
      ],
      "execution_count": 3,
      "outputs": [
        {
          "output_type": "stream",
          "text": [
            "Downloading data from https://storage.googleapis.com/tensorflow/tf-keras-datasets/train-labels-idx1-ubyte.gz\n",
            "32768/29515 [=================================] - 0s 0us/step\n",
            "Downloading data from https://storage.googleapis.com/tensorflow/tf-keras-datasets/train-images-idx3-ubyte.gz\n",
            "26427392/26421880 [==============================] - 0s 0us/step\n",
            "Downloading data from https://storage.googleapis.com/tensorflow/tf-keras-datasets/t10k-labels-idx1-ubyte.gz\n",
            "8192/5148 [===============================================] - 0s 0us/step\n",
            "Downloading data from https://storage.googleapis.com/tensorflow/tf-keras-datasets/t10k-images-idx3-ubyte.gz\n",
            "4423680/4422102 [==============================] - 0s 0us/step\n"
          ],
          "name": "stdout"
        }
      ]
    },
    {
      "cell_type": "code",
      "metadata": {
        "id": "0fZrMV1-xgT9",
        "outputId": "d5faa860-600b-4e7d-c2b3-28e14d479379",
        "colab": {
          "base_uri": "https://localhost:8080/",
          "height": 52
        }
      },
      "source": [
        "print(train_X.shape)\n",
        "print(test_X.shape)"
      ],
      "execution_count": 4,
      "outputs": [
        {
          "output_type": "stream",
          "text": [
            "(60000, 28, 28)\n",
            "(10000, 28, 28)\n"
          ],
          "name": "stdout"
        }
      ]
    },
    {
      "cell_type": "code",
      "metadata": {
        "id": "7fJep2EExjzZ"
      },
      "source": [
        "train_X = train_X.reshape(-1, 28, 28, 1)\n",
        "test_X = test_X.reshape(-1, 28, 28, 1)"
      ],
      "execution_count": 5,
      "outputs": []
    },
    {
      "cell_type": "code",
      "metadata": {
        "id": "dpQRbVTKxtyN",
        "outputId": "1010a394-6fc2-4ab1-973b-52e4fef1b95d",
        "colab": {
          "base_uri": "https://localhost:8080/",
          "height": 641
        }
      },
      "source": [
        "# build the model\n",
        "\n",
        "model = tf.keras.Sequential([\n",
        "                             tf.keras.layers.Conv2D(input_shape=(28, 28, 1), kernel_size=(3, 3), filters=32,\n",
        "                                                    padding='same', activation='relu'),\n",
        "                             tf.keras.layers.Conv2D(kernel_size=(3, 3), filters=64, padding='same', activation='relu'),\n",
        "                             tf.keras.layers.MaxPool2D(strides=(2, 2)),\n",
        "                             tf.keras.layers.Dropout(rate=0.5),\n",
        "                             tf.keras.layers.Conv2D(kernel_size=(3, 3), filters=128, padding='same', activation='relu'),\n",
        "                             tf.keras.layers.Conv2D(kernel_size=(3, 3), filters=256, padding='same', activation='relu'),\n",
        "                             tf.keras.layers.MaxPool2D(strides=(2, 2)),\n",
        "                             tf.keras.layers.Dropout(rate=0.5),\n",
        "                             tf.keras.layers.Flatten(),\n",
        "                             tf.keras.layers.Dense(units=512, activation='relu'),\n",
        "                             tf.keras.layers.Dropout(rate=0.5),\n",
        "                             tf.keras.layers.Dense(units=256, activation='relu'),\n",
        "                             tf.keras.layers.Dropout(rate=0.5),\n",
        "                             tf.keras.layers.Dense(units=10, activation='softmax')                             \n",
        "])\n",
        "\n",
        "model.compile(optimizer = tf.keras.optimizers.Adam(),\n",
        "              loss = 'sparse_categorical_crossentropy',\n",
        "              metrics = ['accuracy'])\n",
        "\n",
        "model.summary()"
      ],
      "execution_count": 8,
      "outputs": [
        {
          "output_type": "stream",
          "text": [
            "Model: \"sequential_1\"\n",
            "_________________________________________________________________\n",
            "Layer (type)                 Output Shape              Param #   \n",
            "=================================================================\n",
            "conv2d_5 (Conv2D)            (None, 28, 28, 32)        320       \n",
            "_________________________________________________________________\n",
            "conv2d_6 (Conv2D)            (None, 28, 28, 64)        18496     \n",
            "_________________________________________________________________\n",
            "max_pooling2d_2 (MaxPooling2 (None, 14, 14, 64)        0         \n",
            "_________________________________________________________________\n",
            "dropout_4 (Dropout)          (None, 14, 14, 64)        0         \n",
            "_________________________________________________________________\n",
            "conv2d_7 (Conv2D)            (None, 14, 14, 128)       73856     \n",
            "_________________________________________________________________\n",
            "conv2d_8 (Conv2D)            (None, 14, 14, 256)       295168    \n",
            "_________________________________________________________________\n",
            "max_pooling2d_3 (MaxPooling2 (None, 7, 7, 256)         0         \n",
            "_________________________________________________________________\n",
            "dropout_5 (Dropout)          (None, 7, 7, 256)         0         \n",
            "_________________________________________________________________\n",
            "flatten_1 (Flatten)          (None, 12544)             0         \n",
            "_________________________________________________________________\n",
            "dense_3 (Dense)              (None, 512)               6423040   \n",
            "_________________________________________________________________\n",
            "dropout_6 (Dropout)          (None, 512)               0         \n",
            "_________________________________________________________________\n",
            "dense_4 (Dense)              (None, 256)               131328    \n",
            "_________________________________________________________________\n",
            "dropout_7 (Dropout)          (None, 256)               0         \n",
            "_________________________________________________________________\n",
            "dense_5 (Dense)              (None, 10)                2570      \n",
            "=================================================================\n",
            "Total params: 6,944,778\n",
            "Trainable params: 6,944,778\n",
            "Non-trainable params: 0\n",
            "_________________________________________________________________\n"
          ],
          "name": "stdout"
        }
      ]
    },
    {
      "cell_type": "code",
      "metadata": {
        "id": "gHhAV2FM9nNI",
        "outputId": "be16e8f8-cffd-47f5-9782-f39e796ba185",
        "colab": {
          "base_uri": "https://localhost:8080/",
          "height": 884
        }
      },
      "source": [
        "history = model.fit(train_X, train_y, epochs=25, validation_split=0.25)"
      ],
      "execution_count": 9,
      "outputs": [
        {
          "output_type": "stream",
          "text": [
            "Epoch 1/25\n",
            "1407/1407 [==============================] - 10s 7ms/step - loss: 0.5708 - accuracy: 0.7956 - val_loss: 0.3467 - val_accuracy: 0.8720\n",
            "Epoch 2/25\n",
            "1407/1407 [==============================] - 10s 7ms/step - loss: 0.3658 - accuracy: 0.8679 - val_loss: 0.2709 - val_accuracy: 0.8981\n",
            "Epoch 3/25\n",
            "1407/1407 [==============================] - 10s 7ms/step - loss: 0.3225 - accuracy: 0.8833 - val_loss: 0.2488 - val_accuracy: 0.9093\n",
            "Epoch 4/25\n",
            "1407/1407 [==============================] - 10s 7ms/step - loss: 0.2982 - accuracy: 0.8929 - val_loss: 0.2380 - val_accuracy: 0.9124\n",
            "Epoch 5/25\n",
            "1407/1407 [==============================] - 10s 7ms/step - loss: 0.2808 - accuracy: 0.8993 - val_loss: 0.2201 - val_accuracy: 0.9207\n",
            "Epoch 6/25\n",
            "1407/1407 [==============================] - 11s 7ms/step - loss: 0.2717 - accuracy: 0.9026 - val_loss: 0.2288 - val_accuracy: 0.9174\n",
            "Epoch 7/25\n",
            "1407/1407 [==============================] - 10s 7ms/step - loss: 0.2603 - accuracy: 0.9060 - val_loss: 0.2114 - val_accuracy: 0.9229\n",
            "Epoch 8/25\n",
            "1407/1407 [==============================] - 10s 7ms/step - loss: 0.2578 - accuracy: 0.9078 - val_loss: 0.2231 - val_accuracy: 0.9202\n",
            "Epoch 9/25\n",
            "1407/1407 [==============================] - 10s 7ms/step - loss: 0.2522 - accuracy: 0.9107 - val_loss: 0.2132 - val_accuracy: 0.9212\n",
            "Epoch 10/25\n",
            "1407/1407 [==============================] - 10s 7ms/step - loss: 0.2420 - accuracy: 0.9130 - val_loss: 0.2103 - val_accuracy: 0.9257\n",
            "Epoch 11/25\n",
            "1407/1407 [==============================] - 10s 7ms/step - loss: 0.2426 - accuracy: 0.9136 - val_loss: 0.2089 - val_accuracy: 0.9227\n",
            "Epoch 12/25\n",
            "1407/1407 [==============================] - 10s 7ms/step - loss: 0.2376 - accuracy: 0.9147 - val_loss: 0.2120 - val_accuracy: 0.9235\n",
            "Epoch 13/25\n",
            "1407/1407 [==============================] - 10s 7ms/step - loss: 0.2355 - accuracy: 0.9154 - val_loss: 0.2060 - val_accuracy: 0.9245\n",
            "Epoch 14/25\n",
            "1407/1407 [==============================] - 10s 7ms/step - loss: 0.2311 - accuracy: 0.9183 - val_loss: 0.2108 - val_accuracy: 0.9254\n",
            "Epoch 15/25\n",
            "1407/1407 [==============================] - 10s 7ms/step - loss: 0.2304 - accuracy: 0.9192 - val_loss: 0.2191 - val_accuracy: 0.9218\n",
            "Epoch 16/25\n",
            "1407/1407 [==============================] - 10s 7ms/step - loss: 0.2287 - accuracy: 0.9184 - val_loss: 0.2086 - val_accuracy: 0.9263\n",
            "Epoch 17/25\n",
            "1407/1407 [==============================] - 10s 7ms/step - loss: 0.2246 - accuracy: 0.9201 - val_loss: 0.2079 - val_accuracy: 0.9279\n",
            "Epoch 18/25\n",
            "1407/1407 [==============================] - 10s 7ms/step - loss: 0.2243 - accuracy: 0.9218 - val_loss: 0.1999 - val_accuracy: 0.9275\n",
            "Epoch 19/25\n",
            "1407/1407 [==============================] - 10s 7ms/step - loss: 0.2181 - accuracy: 0.9207 - val_loss: 0.2072 - val_accuracy: 0.9259\n",
            "Epoch 20/25\n",
            "1407/1407 [==============================] - 10s 7ms/step - loss: 0.2209 - accuracy: 0.9220 - val_loss: 0.2032 - val_accuracy: 0.9279\n",
            "Epoch 21/25\n",
            "1407/1407 [==============================] - 10s 7ms/step - loss: 0.2201 - accuracy: 0.9227 - val_loss: 0.2011 - val_accuracy: 0.9297\n",
            "Epoch 22/25\n",
            "1407/1407 [==============================] - 10s 7ms/step - loss: 0.2178 - accuracy: 0.9244 - val_loss: 0.1967 - val_accuracy: 0.9288\n",
            "Epoch 23/25\n",
            "1407/1407 [==============================] - 10s 7ms/step - loss: 0.2104 - accuracy: 0.9257 - val_loss: 0.1998 - val_accuracy: 0.9268\n",
            "Epoch 24/25\n",
            "1407/1407 [==============================] - 10s 7ms/step - loss: 0.2087 - accuracy: 0.9276 - val_loss: 0.2037 - val_accuracy: 0.9280\n",
            "Epoch 25/25\n",
            "1407/1407 [==============================] - 10s 7ms/step - loss: 0.2134 - accuracy: 0.9240 - val_loss: 0.2026 - val_accuracy: 0.9271\n"
          ],
          "name": "stdout"
        }
      ]
    },
    {
      "cell_type": "code",
      "metadata": {
        "id": "GEEO8gFE-obF",
        "outputId": "dc438819-1835-4d3e-faf2-975fa0a3f696",
        "colab": {
          "base_uri": "https://localhost:8080/",
          "height": 297
        }
      },
      "source": [
        "plt.figure(figsize=(12, 4))\n",
        "\n",
        "plt.subplot(1, 2, 1)\n",
        "plt.plot(history.history['loss'], 'b-', label='loss')\n",
        "plt.plot(history.history['val_loss'], 'r--', label='val_loss')\n",
        "plt.xlabel('Epoch')\n",
        "plt.legend()\n",
        "\n",
        "plt.subplot(1, 2, 2)\n",
        "plt.plot(history.history['accuracy'], 'g--', label='accuracy')\n",
        "plt.plot(history.history['val_accuracy'], 'k--', label='val_accuracy')\n",
        "plt.xlabel('Epoch')\n",
        "plt.legend()"
      ],
      "execution_count": 12,
      "outputs": [
        {
          "output_type": "execute_result",
          "data": {
            "text/plain": [
              "<matplotlib.legend.Legend at 0x7fe9ce094f60>"
            ]
          },
          "metadata": {
            "tags": []
          },
          "execution_count": 12
        },
        {
          "output_type": "display_data",
          "data": {
            "image/png": "[encoded data removed]",
            "text/plain": [
              "<Figure size 864x288 with 2 Axes>"
            ]
          },
          "metadata": {
            "tags": [],
            "needs_background": "light"
          }
        }
      ]
    },
    {
      "cell_type": "code",
      "metadata": {
        "id": "rsBIgD0K_wfH",
        "outputId": "fdce7655-81f3-4906-be09-d615ba77d89c",
        "colab": {
          "base_uri": "https://localhost:8080/",
          "height": 35
        }
      },
      "source": [
        "model.evaluate(test_X, test_y, verbose=0)"
      ],
      "execution_count": 14,
      "outputs": [
        {
          "output_type": "execute_result",
          "data": {
            "text/plain": [
              "[0.22590851783752441, 0.9221000075340271]"
            ]
          },
          "metadata": {
            "tags": []
          },
          "execution_count": 14
        }
      ]
    },
    {
      "cell_type": "code",
      "metadata": {
        "id": "gbc6tql3_43o"
      },
      "source": [
        ""
      ],
      "execution_count": null,
      "outputs": []
    }
  ]
}